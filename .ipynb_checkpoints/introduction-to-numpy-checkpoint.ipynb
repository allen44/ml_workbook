{
 "cells": [
  {
   "cell_type": "code",
   "execution_count": 1,
   "metadata": {},
   "outputs": [],
   "source": [
    "import warnings\n",
    "warnings.filterwarnings(\"ignore\")\n",
    "import numpy as np"
   ]
  },
  {
   "cell_type": "markdown",
   "metadata": {},
   "source": [
    "# DataTypes and Attributes"
   ]
  },
  {
   "cell_type": "code",
   "execution_count": 2,
   "metadata": {},
   "outputs": [
    {
     "data": {
      "text/plain": [
       "array([1, 2, 3])"
      ]
     },
     "execution_count": 2,
     "metadata": {},
     "output_type": "execute_result"
    }
   ],
   "source": [
    "# Numpy's main datatype is ndarray\n",
    "a1 = np.array([1, 2, 3])\n",
    "a1"
   ]
  },
  {
   "cell_type": "code",
   "execution_count": 3,
   "metadata": {},
   "outputs": [
    {
     "data": {
      "text/plain": [
       "numpy.ndarray"
      ]
     },
     "execution_count": 3,
     "metadata": {},
     "output_type": "execute_result"
    }
   ],
   "source": [
    "type(a1)"
   ]
  },
  {
   "cell_type": "code",
   "execution_count": 4,
   "metadata": {},
   "outputs": [
    {
     "data": {
      "text/plain": [
       "array([[1. , 2. , 3.3],\n",
       "       [4. , 5. , 6.5]])"
      ]
     },
     "execution_count": 4,
     "metadata": {},
     "output_type": "execute_result"
    }
   ],
   "source": [
    "a2 = np.array([[1, 2.0, 3.3],\n",
    "              [4, 5, 6.5]])\n",
    "\n",
    "a3 = np.array([[[1, 2, 3],\n",
    "               [4, 5, 6],\n",
    "               [7, 8 ,9]],\n",
    "              [[10, 11, 12],\n",
    "              [12, 14, 15],\n",
    "              [16, 17, 18]]])\n",
    "a2"
   ]
  },
  {
   "cell_type": "code",
   "execution_count": 5,
   "metadata": {},
   "outputs": [
    {
     "data": {
      "text/plain": [
       "array([[[ 1,  2,  3],\n",
       "        [ 4,  5,  6],\n",
       "        [ 7,  8,  9]],\n",
       "\n",
       "       [[10, 11, 12],\n",
       "        [12, 14, 15],\n",
       "        [16, 17, 18]]])"
      ]
     },
     "execution_count": 5,
     "metadata": {},
     "output_type": "execute_result"
    }
   ],
   "source": [
    "a3"
   ]
  },
  {
   "cell_type": "code",
   "execution_count": 6,
   "metadata": {},
   "outputs": [
    {
     "data": {
      "text/plain": [
       "(3,)"
      ]
     },
     "execution_count": 6,
     "metadata": {},
     "output_type": "execute_result"
    }
   ],
   "source": [
    "a1.shape"
   ]
  },
  {
   "cell_type": "code",
   "execution_count": 7,
   "metadata": {},
   "outputs": [
    {
     "data": {
      "text/plain": [
       "(2, 3)"
      ]
     },
     "execution_count": 7,
     "metadata": {},
     "output_type": "execute_result"
    }
   ],
   "source": [
    "a2.shape"
   ]
  },
  {
   "cell_type": "code",
   "execution_count": 8,
   "metadata": {},
   "outputs": [
    {
     "data": {
      "text/plain": [
       "(2, 3, 3)"
      ]
     },
     "execution_count": 8,
     "metadata": {},
     "output_type": "execute_result"
    }
   ],
   "source": [
    "a3.shape"
   ]
  },
  {
   "cell_type": "code",
   "execution_count": 9,
   "metadata": {},
   "outputs": [
    {
     "data": {
      "text/plain": [
       "(1, 2, 3)"
      ]
     },
     "execution_count": 9,
     "metadata": {},
     "output_type": "execute_result"
    }
   ],
   "source": [
    "a1.ndim, a2.ndim, a3.ndim"
   ]
  },
  {
   "cell_type": "code",
   "execution_count": 10,
   "metadata": {},
   "outputs": [
    {
     "data": {
      "text/plain": [
       "1"
      ]
     },
     "execution_count": 10,
     "metadata": {},
     "output_type": "execute_result"
    }
   ],
   "source": [
    "a1.ndim"
   ]
  },
  {
   "cell_type": "code",
   "execution_count": 11,
   "metadata": {},
   "outputs": [
    {
     "data": {
      "text/plain": [
       "(dtype('int32'), dtype('float64'), dtype('int32'))"
      ]
     },
     "execution_count": 11,
     "metadata": {},
     "output_type": "execute_result"
    }
   ],
   "source": [
    "a1.dtype, a2.dtype, a3.dtype"
   ]
  },
  {
   "cell_type": "code",
   "execution_count": 12,
   "metadata": {},
   "outputs": [
    {
     "data": {
      "text/plain": [
       "(3, 6, 18)"
      ]
     },
     "execution_count": 12,
     "metadata": {},
     "output_type": "execute_result"
    }
   ],
   "source": [
    "a1.size, a2.size, a3.size"
   ]
  },
  {
   "cell_type": "code",
   "execution_count": 13,
   "metadata": {},
   "outputs": [
    {
     "data": {
      "text/plain": [
       "(numpy.ndarray, numpy.ndarray, numpy.ndarray)"
      ]
     },
     "execution_count": 13,
     "metadata": {},
     "output_type": "execute_result"
    }
   ],
   "source": [
    "type(a1), type(a2), type(a3)"
   ]
  },
  {
   "cell_type": "code",
   "execution_count": 14,
   "metadata": {},
   "outputs": [
    {
     "data": {
      "text/html": [
       "<div>\n",
       "<style scoped>\n",
       "    .dataframe tbody tr th:only-of-type {\n",
       "        vertical-align: middle;\n",
       "    }\n",
       "\n",
       "    .dataframe tbody tr th {\n",
       "        vertical-align: top;\n",
       "    }\n",
       "\n",
       "    .dataframe thead th {\n",
       "        text-align: right;\n",
       "    }\n",
       "</style>\n",
       "<table border=\"1\" class=\"dataframe\">\n",
       "  <thead>\n",
       "    <tr style=\"text-align: right;\">\n",
       "      <th></th>\n",
       "      <th>0</th>\n",
       "      <th>1</th>\n",
       "      <th>2</th>\n",
       "    </tr>\n",
       "  </thead>\n",
       "  <tbody>\n",
       "    <tr>\n",
       "      <th>0</th>\n",
       "      <td>1.0</td>\n",
       "      <td>2.0</td>\n",
       "      <td>3.3</td>\n",
       "    </tr>\n",
       "    <tr>\n",
       "      <th>1</th>\n",
       "      <td>4.0</td>\n",
       "      <td>5.0</td>\n",
       "      <td>6.5</td>\n",
       "    </tr>\n",
       "  </tbody>\n",
       "</table>\n",
       "</div>"
      ],
      "text/plain": [
       "     0    1    2\n",
       "0  1.0  2.0  3.3\n",
       "1  4.0  5.0  6.5"
      ]
     },
     "execution_count": 14,
     "metadata": {},
     "output_type": "execute_result"
    }
   ],
   "source": [
    "# Create a DataFrame from a NumPy array\n",
    "import pandas as pd\n",
    "\n",
    "df= pd.DataFrame(a2)\n",
    "df"
   ]
  },
  {
   "cell_type": "markdown",
   "metadata": {},
   "source": [
    "# Creating Arrays\n"
   ]
  },
  {
   "cell_type": "code",
   "execution_count": 15,
   "metadata": {},
   "outputs": [
    {
     "data": {
      "text/plain": [
       "array([1, 2, 3])"
      ]
     },
     "execution_count": 15,
     "metadata": {},
     "output_type": "execute_result"
    }
   ],
   "source": [
    "sample_array = np.array([1, 2, 3])\n",
    "sample_array"
   ]
  },
  {
   "cell_type": "code",
   "execution_count": 16,
   "metadata": {
    "scrolled": true
   },
   "outputs": [
    {
     "data": {
      "text/plain": [
       "dtype('int32')"
      ]
     },
     "execution_count": 16,
     "metadata": {},
     "output_type": "execute_result"
    }
   ],
   "source": [
    "sample_array.dtype"
   ]
  },
  {
   "cell_type": "code",
   "execution_count": 17,
   "metadata": {},
   "outputs": [
    {
     "data": {
      "text/plain": [
       "array([[1., 1., 1.],\n",
       "       [1., 1., 1.]])"
      ]
     },
     "execution_count": 17,
     "metadata": {},
     "output_type": "execute_result"
    }
   ],
   "source": [
    "ones = np.ones((2, 3))\n",
    "ones"
   ]
  },
  {
   "cell_type": "code",
   "execution_count": 18,
   "metadata": {},
   "outputs": [
    {
     "data": {
      "text/plain": [
       "dtype('float64')"
      ]
     },
     "execution_count": 18,
     "metadata": {},
     "output_type": "execute_result"
    }
   ],
   "source": [
    "ones.dtype"
   ]
  },
  {
   "cell_type": "code",
   "execution_count": 19,
   "metadata": {},
   "outputs": [
    {
     "data": {
      "text/plain": [
       "array([[0., 0., 0.],\n",
       "       [0., 0., 0.]])"
      ]
     },
     "execution_count": 19,
     "metadata": {},
     "output_type": "execute_result"
    }
   ],
   "source": [
    "zeros = np.zeros((2,3))\n",
    "zeros"
   ]
  },
  {
   "cell_type": "code",
   "execution_count": 20,
   "metadata": {},
   "outputs": [
    {
     "data": {
      "text/plain": [
       "(2, 3)"
      ]
     },
     "execution_count": 20,
     "metadata": {},
     "output_type": "execute_result"
    }
   ],
   "source": [
    "zeros.shape"
   ]
  },
  {
   "cell_type": "code",
   "execution_count": 21,
   "metadata": {},
   "outputs": [
    {
     "data": {
      "text/plain": [
       "(array([0, 2, 4, 6, 8]), numpy.ndarray)"
      ]
     },
     "execution_count": 21,
     "metadata": {},
     "output_type": "execute_result"
    }
   ],
   "source": [
    "range_array = np.arange(0, 10, 2)\n",
    "range_array, type(range_array)"
   ]
  },
  {
   "cell_type": "code",
   "execution_count": 22,
   "metadata": {},
   "outputs": [
    {
     "data": {
      "text/plain": [
       "array([[9, 9, 9, 1, 4, 3, 8, 9, 5, 0],\n",
       "       [1, 1, 5, 0, 8, 0, 5, 8, 0, 3],\n",
       "       [6, 7, 9, 1, 2, 5, 6, 4, 6, 8]])"
      ]
     },
     "execution_count": 22,
     "metadata": {},
     "output_type": "execute_result"
    }
   ],
   "source": [
    "random_array = np.random.randint(0,10, size=(3,10))\n",
    "random_array"
   ]
  },
  {
   "cell_type": "code",
   "execution_count": 23,
   "metadata": {},
   "outputs": [
    {
     "data": {
      "text/plain": [
       "30"
      ]
     },
     "execution_count": 23,
     "metadata": {},
     "output_type": "execute_result"
    }
   ],
   "source": [
    "random_array.size"
   ]
  },
  {
   "cell_type": "code",
   "execution_count": 24,
   "metadata": {},
   "outputs": [
    {
     "data": {
      "text/plain": [
       "array([[0.97352012, 0.49465296, 0.39742621, 0.45093729, 0.50517567,\n",
       "        0.05708512, 0.90692713, 0.10606193, 0.52859283, 0.68847714],\n",
       "       [0.8008327 , 0.34579797, 0.70814945, 0.82134407, 0.82612835,\n",
       "        0.08578135, 0.00595401, 0.27504262, 0.3591669 , 0.31524554],\n",
       "       [0.65863736, 0.10939105, 0.25450852, 0.38455687, 0.63924435,\n",
       "        0.7016403 , 0.16889023, 0.41052138, 0.23451651, 0.28688626],\n",
       "       [0.53801268, 0.15240756, 0.31658592, 0.12122552, 0.28964391,\n",
       "        0.49398724, 0.90640856, 0.92527194, 0.41227678, 0.19665051],\n",
       "       [0.78257729, 0.50119461, 0.43827928, 0.15861894, 0.3864856 ,\n",
       "        0.2284208 , 0.80636006, 0.10601847, 0.56898392, 0.40669844],\n",
       "       [0.39037287, 0.47452871, 0.47442811, 0.40288895, 0.50577338,\n",
       "        0.44154508, 0.26130317, 0.21546071, 0.98250453, 0.7655417 ],\n",
       "       [0.3867249 , 0.95216229, 0.51308324, 0.28857148, 0.34513023,\n",
       "        0.29870853, 0.31434381, 0.851046  , 0.70986818, 0.20335932],\n",
       "       [0.54622331, 0.06156752, 0.35375645, 0.36503911, 0.1213035 ,\n",
       "        0.11683897, 0.40555434, 0.96268515, 0.16344489, 0.1819287 ],\n",
       "       [0.95298065, 0.26436176, 0.11119279, 0.65319808, 0.40125966,\n",
       "        0.64003715, 0.5018448 , 0.91038388, 0.15871828, 0.38531598],\n",
       "       [0.11972316, 0.72253503, 0.83217103, 0.31418837, 0.59455804,\n",
       "        0.68901931, 0.96182752, 0.85053028, 0.68107596, 0.12835934]])"
      ]
     },
     "execution_count": 24,
     "metadata": {},
     "output_type": "execute_result"
    }
   ],
   "source": [
    "random_array_2 = np.random.rand(10,10)\n",
    "random_array_2"
   ]
  },
  {
   "cell_type": "code",
   "execution_count": 25,
   "metadata": {},
   "outputs": [],
   "source": [
    "#Psudo random numbers\n",
    "#Seemingly random, but it can be reproduced using the seed() func.\n",
    "\n",
    "np.random.seed(0)"
   ]
  },
  {
   "cell_type": "code",
   "execution_count": 26,
   "metadata": {},
   "outputs": [
    {
     "data": {
      "text/plain": [
       "array([[5, 0, 3],\n",
       "       [3, 7, 9],\n",
       "       [3, 5, 2],\n",
       "       [4, 7, 6],\n",
       "       [8, 8, 1]])"
      ]
     },
     "execution_count": 26,
     "metadata": {},
     "output_type": "execute_result"
    }
   ],
   "source": [
    "random_array_4 = np.random.randint(10, size=(5, 3))\n",
    "random_array_4"
   ]
  },
  {
   "cell_type": "code",
   "execution_count": 27,
   "metadata": {},
   "outputs": [
    {
     "data": {
      "text/plain": [
       "(3, 10)"
      ]
     },
     "execution_count": 27,
     "metadata": {},
     "output_type": "execute_result"
    }
   ],
   "source": [
    "random_array.shape"
   ]
  },
  {
   "cell_type": "code",
   "execution_count": 28,
   "metadata": {},
   "outputs": [
    {
     "data": {
      "text/plain": [
       "array([[0.07630829, 0.77991879, 0.43840923],\n",
       "       [0.72346518, 0.97798951, 0.53849587],\n",
       "       [0.50112046, 0.07205113, 0.26843898],\n",
       "       [0.4998825 , 0.67923   , 0.80373904],\n",
       "       [0.38094113, 0.06593635, 0.2881456 ]])"
      ]
     },
     "execution_count": 28,
     "metadata": {},
     "output_type": "execute_result"
    }
   ],
   "source": [
    "np.random.seed(7)\n",
    "random_array_5 = np.random.random((5, 3))\n",
    "random_array_5"
   ]
  },
  {
   "cell_type": "markdown",
   "metadata": {},
   "source": [
    "# 3. Viewing Arrays and"
   ]
  },
  {
   "cell_type": "code",
   "execution_count": 29,
   "metadata": {},
   "outputs": [
    {
     "data": {
      "text/plain": [
       "array([0.06593635, 0.07205113, 0.07630829, 0.26843898, 0.2881456 ,\n",
       "       0.38094113, 0.43840923, 0.4998825 , 0.50112046, 0.53849587,\n",
       "       0.67923   , 0.72346518, 0.77991879, 0.80373904, 0.97798951])"
      ]
     },
     "execution_count": 29,
     "metadata": {},
     "output_type": "execute_result"
    }
   ],
   "source": [
    "np.unique(random_array_5)"
   ]
  },
  {
   "cell_type": "code",
   "execution_count": 30,
   "metadata": {},
   "outputs": [
    {
     "data": {
      "text/plain": [
       "array([0, 1, 2, 3, 4, 5, 6, 7, 8, 9])"
      ]
     },
     "execution_count": 30,
     "metadata": {},
     "output_type": "execute_result"
    }
   ],
   "source": [
    "np.unique(random_array_4)"
   ]
  },
  {
   "cell_type": "code",
   "execution_count": 31,
   "metadata": {},
   "outputs": [
    {
     "data": {
      "text/plain": [
       "array([1, 2, 3])"
      ]
     },
     "execution_count": 31,
     "metadata": {},
     "output_type": "execute_result"
    }
   ],
   "source": [
    "a1"
   ]
  },
  {
   "cell_type": "code",
   "execution_count": 32,
   "metadata": {},
   "outputs": [
    {
     "data": {
      "text/plain": [
       "array([[1. , 2. , 3.3],\n",
       "       [4. , 5. , 6.5]])"
      ]
     },
     "execution_count": 32,
     "metadata": {},
     "output_type": "execute_result"
    }
   ],
   "source": [
    "a2"
   ]
  },
  {
   "cell_type": "code",
   "execution_count": 33,
   "metadata": {},
   "outputs": [
    {
     "data": {
      "text/plain": [
       "array([[[ 1,  2,  3],\n",
       "        [ 4,  5,  6],\n",
       "        [ 7,  8,  9]],\n",
       "\n",
       "       [[10, 11, 12],\n",
       "        [12, 14, 15],\n",
       "        [16, 17, 18]]])"
      ]
     },
     "execution_count": 33,
     "metadata": {},
     "output_type": "execute_result"
    }
   ],
   "source": [
    "a3"
   ]
  },
  {
   "cell_type": "code",
   "execution_count": 34,
   "metadata": {},
   "outputs": [
    {
     "data": {
      "text/plain": [
       "1"
      ]
     },
     "execution_count": 34,
     "metadata": {},
     "output_type": "execute_result"
    }
   ],
   "source": [
    "a1[0]"
   ]
  },
  {
   "cell_type": "code",
   "execution_count": 35,
   "metadata": {},
   "outputs": [
    {
     "data": {
      "text/plain": [
       "array([1. , 2. , 3.3])"
      ]
     },
     "execution_count": 35,
     "metadata": {},
     "output_type": "execute_result"
    }
   ],
   "source": [
    "a2[0]"
   ]
  },
  {
   "cell_type": "code",
   "execution_count": 36,
   "metadata": {},
   "outputs": [
    {
     "data": {
      "text/plain": [
       "array([[1, 2, 3],\n",
       "       [4, 5, 6],\n",
       "       [7, 8, 9]])"
      ]
     },
     "execution_count": 36,
     "metadata": {},
     "output_type": "execute_result"
    }
   ],
   "source": [
    "a3[0]"
   ]
  },
  {
   "cell_type": "code",
   "execution_count": 37,
   "metadata": {},
   "outputs": [
    {
     "data": {
      "text/plain": [
       "2"
      ]
     },
     "execution_count": 37,
     "metadata": {},
     "output_type": "execute_result"
    }
   ],
   "source": [
    "a1[1]"
   ]
  },
  {
   "cell_type": "code",
   "execution_count": 38,
   "metadata": {},
   "outputs": [
    {
     "data": {
      "text/plain": [
       "array([4. , 5. , 6.5])"
      ]
     },
     "execution_count": 38,
     "metadata": {},
     "output_type": "execute_result"
    }
   ],
   "source": [
    "a2[1]"
   ]
  },
  {
   "cell_type": "code",
   "execution_count": 39,
   "metadata": {},
   "outputs": [
    {
     "data": {
      "text/plain": [
       "array([[10, 11, 12],\n",
       "       [12, 14, 15],\n",
       "       [16, 17, 18]])"
      ]
     },
     "execution_count": 39,
     "metadata": {},
     "output_type": "execute_result"
    }
   ],
   "source": [
    "a3[1]"
   ]
  },
  {
   "cell_type": "code",
   "execution_count": 40,
   "metadata": {},
   "outputs": [
    {
     "data": {
      "text/plain": [
       "(2, 3, 3)"
      ]
     },
     "execution_count": 40,
     "metadata": {},
     "output_type": "execute_result"
    }
   ],
   "source": [
    "a3.shape"
   ]
  },
  {
   "cell_type": "code",
   "execution_count": 41,
   "metadata": {},
   "outputs": [
    {
     "data": {
      "text/plain": [
       "array([[[ 1,  2,  3],\n",
       "        [ 4,  5,  6],\n",
       "        [ 7,  8,  9]],\n",
       "\n",
       "       [[10, 11, 12],\n",
       "        [12, 14, 15],\n",
       "        [16, 17, 18]]])"
      ]
     },
     "execution_count": 41,
     "metadata": {},
     "output_type": "execute_result"
    }
   ],
   "source": [
    "a3[:2]"
   ]
  },
  {
   "cell_type": "code",
   "execution_count": 42,
   "metadata": {},
   "outputs": [
    {
     "data": {
      "text/plain": [
       "array([[[ 1,  2,  3],\n",
       "        [ 4,  5,  6]],\n",
       "\n",
       "       [[10, 11, 12],\n",
       "        [12, 14, 15]]])"
      ]
     },
     "execution_count": 42,
     "metadata": {},
     "output_type": "execute_result"
    }
   ],
   "source": [
    "a3[:2, :2]"
   ]
  },
  {
   "cell_type": "code",
   "execution_count": 43,
   "metadata": {},
   "outputs": [
    {
     "data": {
      "text/plain": [
       "array([[[ 1],\n",
       "        [ 4]],\n",
       "\n",
       "       [[10],\n",
       "        [12]]])"
      ]
     },
     "execution_count": 43,
     "metadata": {},
     "output_type": "execute_result"
    }
   ],
   "source": [
    "a3[:2, :2, :1]"
   ]
  },
  {
   "cell_type": "code",
   "execution_count": 44,
   "metadata": {},
   "outputs": [
    {
     "data": {
      "text/plain": [
       "array([[[[3, 5, 8, 8, 7],\n",
       "         [5, 0, 0, 2, 8],\n",
       "         [9, 6, 4, 9, 7],\n",
       "         [3, 3, 8, 3, 0]],\n",
       "\n",
       "        [[1, 0, 0, 6, 7],\n",
       "         [7, 9, 3, 0, 7],\n",
       "         [7, 7, 0, 5, 4],\n",
       "         [3, 1, 3, 1, 3]],\n",
       "\n",
       "        [[4, 3, 1, 9, 5],\n",
       "         [9, 1, 2, 3, 2],\n",
       "         [2, 5, 7, 3, 0],\n",
       "         [9, 9, 3, 4, 5]]],\n",
       "\n",
       "\n",
       "       [[[3, 0, 4, 8, 6],\n",
       "         [7, 2, 7, 3, 8],\n",
       "         [6, 6, 5, 6, 5],\n",
       "         [7, 1, 5, 4, 4]],\n",
       "\n",
       "        [[9, 9, 0, 6, 2],\n",
       "         [6, 8, 2, 4, 1],\n",
       "         [6, 1, 5, 1, 6],\n",
       "         [9, 8, 6, 5, 9]],\n",
       "\n",
       "        [[7, 5, 4, 9, 6],\n",
       "         [8, 1, 5, 5, 8],\n",
       "         [3, 7, 7, 9, 4],\n",
       "         [7, 5, 9, 6, 2]]]])"
      ]
     },
     "execution_count": 44,
     "metadata": {},
     "output_type": "execute_result"
    }
   ],
   "source": [
    "a4 = np.random.randint(10, size=(2, 3, 4, 5))\n",
    "a4"
   ]
  },
  {
   "cell_type": "code",
   "execution_count": 45,
   "metadata": {},
   "outputs": [
    {
     "data": {
      "text/plain": [
       "(2, 3, 4, 5)"
      ]
     },
     "execution_count": 45,
     "metadata": {},
     "output_type": "execute_result"
    }
   ],
   "source": [
    "a4.shape"
   ]
  },
  {
   "cell_type": "code",
   "execution_count": 46,
   "metadata": {},
   "outputs": [
    {
     "data": {
      "text/plain": [
       "array([[[[3],\n",
       "         [5],\n",
       "         [9],\n",
       "         [3]],\n",
       "\n",
       "        [[1],\n",
       "         [7],\n",
       "         [7],\n",
       "         [3]],\n",
       "\n",
       "        [[4],\n",
       "         [9],\n",
       "         [2],\n",
       "         [9]]],\n",
       "\n",
       "\n",
       "       [[[3],\n",
       "         [7],\n",
       "         [6],\n",
       "         [7]],\n",
       "\n",
       "        [[9],\n",
       "         [6],\n",
       "         [6],\n",
       "         [9]],\n",
       "\n",
       "        [[7],\n",
       "         [8],\n",
       "         [3],\n",
       "         [7]]]])"
      ]
     },
     "execution_count": 46,
     "metadata": {},
     "output_type": "execute_result"
    }
   ],
   "source": [
    "#Get first  numbers of innermost array\n",
    "a4[:, :, :, :1]"
   ]
  },
  {
   "cell_type": "markdown",
   "metadata": {},
   "source": [
    "## 4. Manipulating and comparing arrays"
   ]
  },
  {
   "cell_type": "code",
   "execution_count": 47,
   "metadata": {},
   "outputs": [
    {
     "data": {
      "text/plain": [
       "array([1, 2, 3])"
      ]
     },
     "execution_count": 47,
     "metadata": {},
     "output_type": "execute_result"
    }
   ],
   "source": [
    "a1"
   ]
  },
  {
   "cell_type": "code",
   "execution_count": 48,
   "metadata": {},
   "outputs": [
    {
     "data": {
      "text/plain": [
       "array([[1. , 2. , 3.3],\n",
       "       [4. , 5. , 6.5]])"
      ]
     },
     "execution_count": 48,
     "metadata": {},
     "output_type": "execute_result"
    }
   ],
   "source": [
    "a2"
   ]
  },
  {
   "cell_type": "code",
   "execution_count": 49,
   "metadata": {},
   "outputs": [
    {
     "data": {
      "text/plain": [
       "array([[2., 3., 4.],\n",
       "       [2., 3., 4.]])"
      ]
     },
     "execution_count": 49,
     "metadata": {},
     "output_type": "execute_result"
    }
   ],
   "source": [
    "a1 + ones"
   ]
  },
  {
   "cell_type": "code",
   "execution_count": 50,
   "metadata": {},
   "outputs": [
    {
     "data": {
      "text/plain": [
       "array([[0., 1., 2.],\n",
       "       [0., 1., 2.]])"
      ]
     },
     "execution_count": 50,
     "metadata": {},
     "output_type": "execute_result"
    }
   ],
   "source": [
    "a1 - ones"
   ]
  },
  {
   "cell_type": "code",
   "execution_count": 51,
   "metadata": {},
   "outputs": [
    {
     "data": {
      "text/plain": [
       "array([[1., 2., 3.],\n",
       "       [1., 2., 3.]])"
      ]
     },
     "execution_count": 51,
     "metadata": {},
     "output_type": "execute_result"
    }
   ],
   "source": [
    "a1 * ones"
   ]
  },
  {
   "cell_type": "code",
   "execution_count": 52,
   "metadata": {},
   "outputs": [
    {
     "data": {
      "text/plain": [
       "array([[ 1. ,  4. ,  9.9],\n",
       "       [ 4. , 10. , 19.5]])"
      ]
     },
     "execution_count": 52,
     "metadata": {},
     "output_type": "execute_result"
    }
   ],
   "source": [
    "a1 * a2"
   ]
  },
  {
   "cell_type": "code",
   "execution_count": 54,
   "metadata": {},
   "outputs": [
    {
     "ename": "ValueError",
     "evalue": "operands could not be broadcast together with shapes (2,3) (2,3,3) ",
     "output_type": "error",
     "traceback": [
      "\u001b[1;31m---------------------------------------------------------------------------\u001b[0m",
      "\u001b[1;31mValueError\u001b[0m                                Traceback (most recent call last)",
      "\u001b[1;32m<ipython-input-54-37d8620f1b2c>\u001b[0m in \u001b[0;36m<module>\u001b[1;34m\u001b[0m\n\u001b[1;32m----> 1\u001b[1;33m \u001b[0ma2\u001b[0m \u001b[1;33m*\u001b[0m \u001b[0ma3\u001b[0m\u001b[1;33m\u001b[0m\u001b[1;33m\u001b[0m\u001b[0m\n\u001b[0m",
      "\u001b[1;31mValueError\u001b[0m: operands could not be broadcast together with shapes (2,3) (2,3,3) "
     ]
    }
   ],
   "source": [
    "a2 * a3"
   ]
  },
  {
   "cell_type": "code",
   "execution_count": 55,
   "metadata": {},
   "outputs": [
    {
     "data": {
      "text/plain": [
       "array([[[ 1,  2,  3],\n",
       "        [ 4,  5,  6],\n",
       "        [ 7,  8,  9]],\n",
       "\n",
       "       [[10, 11, 12],\n",
       "        [12, 14, 15],\n",
       "        [16, 17, 18]]])"
      ]
     },
     "execution_count": 55,
     "metadata": {},
     "output_type": "execute_result"
    }
   ],
   "source": [
    "a3"
   ]
  },
  {
   "cell_type": "code",
   "execution_count": 56,
   "metadata": {},
   "outputs": [
    {
     "data": {
      "text/plain": [
       "array([[1., 2., 3.],\n",
       "       [1., 2., 3.]])"
      ]
     },
     "execution_count": 56,
     "metadata": {},
     "output_type": "execute_result"
    }
   ],
   "source": [
    " a1 / ones\n"
   ]
  },
  {
   "cell_type": "code",
   "execution_count": 57,
   "metadata": {},
   "outputs": [
    {
     "data": {
      "text/plain": [
       "array([[1., 2., 3.],\n",
       "       [1., 2., 3.]])"
      ]
     },
     "execution_count": 57,
     "metadata": {},
     "output_type": "execute_result"
    }
   ],
   "source": [
    "# Floor division (removes the remainder)\n",
    "a1 // ones"
   ]
  },
  {
   "cell_type": "code",
   "execution_count": 58,
   "metadata": {},
   "outputs": [
    {
     "data": {
      "text/plain": [
       "array([[1. , 2. , 3.3],\n",
       "       [4. , 5. , 6.5]])"
      ]
     },
     "execution_count": 58,
     "metadata": {},
     "output_type": "execute_result"
    }
   ],
   "source": [
    "a2"
   ]
  },
  {
   "cell_type": "code",
   "execution_count": 59,
   "metadata": {},
   "outputs": [
    {
     "data": {
      "text/plain": [
       "array([[ 1.  ,  4.  , 10.89],\n",
       "       [16.  , 25.  , 42.25]])"
      ]
     },
     "execution_count": 59,
     "metadata": {},
     "output_type": "execute_result"
    }
   ],
   "source": [
    "a2 ** 2"
   ]
  },
  {
   "cell_type": "code",
   "execution_count": 60,
   "metadata": {},
   "outputs": [
    {
     "data": {
      "text/plain": [
       "array([[2. , 4. , 6.3],\n",
       "       [5. , 7. , 9.5]])"
      ]
     },
     "execution_count": 60,
     "metadata": {},
     "output_type": "execute_result"
    }
   ],
   "source": [
    "a1 + a2"
   ]
  },
  {
   "cell_type": "code",
   "execution_count": 61,
   "metadata": {},
   "outputs": [
    {
     "data": {
      "text/plain": [
       "array([[2. , 4. , 6.3],\n",
       "       [5. , 7. , 9.5]])"
      ]
     },
     "execution_count": 61,
     "metadata": {},
     "output_type": "execute_result"
    }
   ],
   "source": [
    "np.add(a1, a2)"
   ]
  },
  {
   "cell_type": "code",
   "execution_count": 62,
   "metadata": {},
   "outputs": [
    {
     "data": {
      "text/plain": [
       "array([1, 0, 1], dtype=int32)"
      ]
     },
     "execution_count": 62,
     "metadata": {},
     "output_type": "execute_result"
    }
   ],
   "source": [
    "#Modulo\n",
    "a1 % 2"
   ]
  },
  {
   "cell_type": "code",
   "execution_count": 63,
   "metadata": {},
   "outputs": [
    {
     "data": {
      "text/plain": [
       "array([[1. , 0. , 1.3],\n",
       "       [0. , 1. , 0.5]])"
      ]
     },
     "execution_count": 63,
     "metadata": {},
     "output_type": "execute_result"
    }
   ],
   "source": [
    "a2 % 2"
   ]
  },
  {
   "cell_type": "code",
   "execution_count": 64,
   "metadata": {},
   "outputs": [
    {
     "data": {
      "text/plain": [
       "array([ 2.71828183,  7.3890561 , 20.08553692])"
      ]
     },
     "execution_count": 64,
     "metadata": {},
     "output_type": "execute_result"
    }
   ],
   "source": [
    "np.exp(a1)"
   ]
  },
  {
   "cell_type": "code",
   "execution_count": 65,
   "metadata": {},
   "outputs": [
    {
     "data": {
      "text/plain": [
       "array([[[0.        , 0.69314718, 1.09861229],\n",
       "        [1.38629436, 1.60943791, 1.79175947],\n",
       "        [1.94591015, 2.07944154, 2.19722458]],\n",
       "\n",
       "       [[2.30258509, 2.39789527, 2.48490665],\n",
       "        [2.48490665, 2.63905733, 2.7080502 ],\n",
       "        [2.77258872, 2.83321334, 2.89037176]]])"
      ]
     },
     "execution_count": 65,
     "metadata": {},
     "output_type": "execute_result"
    }
   ],
   "source": [
    "np.log(a3)"
   ]
  },
  {
   "cell_type": "markdown",
   "metadata": {},
   "source": [
    "# Aggregation\n",
    "aggregation = performing the same operation on a number of things"
   ]
  },
  {
   "cell_type": "code",
   "execution_count": 66,
   "metadata": {},
   "outputs": [
    {
     "data": {
      "text/plain": [
       "[1, 2, 3]"
      ]
     },
     "execution_count": 66,
     "metadata": {},
     "output_type": "execute_result"
    }
   ],
   "source": [
    "listy_list = [1, 2, 3]\n",
    "listy_list"
   ]
  },
  {
   "cell_type": "code",
   "execution_count": 67,
   "metadata": {},
   "outputs": [
    {
     "data": {
      "text/plain": [
       "list"
      ]
     },
     "execution_count": 67,
     "metadata": {},
     "output_type": "execute_result"
    }
   ],
   "source": [
    "type(listy_list)"
   ]
  },
  {
   "cell_type": "code",
   "execution_count": 68,
   "metadata": {},
   "outputs": [
    {
     "data": {
      "text/plain": [
       "6"
      ]
     },
     "execution_count": 68,
     "metadata": {},
     "output_type": "execute_result"
    }
   ],
   "source": [
    "sum(listy_list)"
   ]
  },
  {
   "cell_type": "code",
   "execution_count": 69,
   "metadata": {},
   "outputs": [
    {
     "data": {
      "text/plain": [
       "6"
      ]
     },
     "execution_count": 69,
     "metadata": {},
     "output_type": "execute_result"
    }
   ],
   "source": [
    "sum(a1)"
   ]
  },
  {
   "cell_type": "code",
   "execution_count": 70,
   "metadata": {},
   "outputs": [
    {
     "data": {
      "text/plain": [
       "6"
      ]
     },
     "execution_count": 70,
     "metadata": {},
     "output_type": "execute_result"
    }
   ],
   "source": [
    "np.sum(a1)"
   ]
  },
  {
   "cell_type": "markdown",
   "metadata": {},
   "source": [
    "Use Python's methods (`sum()`) on Python datatypes and use NumPy's methods on NumPy arrays, `np.sum()`"
   ]
  },
  {
   "cell_type": "code",
   "execution_count": 71,
   "metadata": {},
   "outputs": [
    {
     "data": {
      "text/plain": [
       "100000"
      ]
     },
     "execution_count": 71,
     "metadata": {},
     "output_type": "execute_result"
    }
   ],
   "source": [
    "# Create a massive NumPy array\n",
    "massive_array = np.random.random(100000)\n",
    "massive_array.size"
   ]
  },
  {
   "cell_type": "code",
   "execution_count": 72,
   "metadata": {},
   "outputs": [
    {
     "data": {
      "text/plain": [
       "array([0.82845319, 0.94180927, 0.12814785, 0.23043067, 0.6591584 ,\n",
       "       0.13247399, 0.22407864, 0.57486259, 0.16952372, 0.78223015])"
      ]
     },
     "execution_count": 72,
     "metadata": {},
     "output_type": "execute_result"
    }
   ],
   "source": [
    "massive_array[:10]"
   ]
  },
  {
   "cell_type": "code",
   "execution_count": 73,
   "metadata": {},
   "outputs": [
    {
     "name": "stdout",
     "output_type": "stream",
     "text": [
      "573 ms ± 18.2 ms per loop (mean ± std. dev. of 7 runs, 1 loop each)\n",
      "107 µs ± 6.06 µs per loop (mean ± std. dev. of 7 runs, 10000 loops each)\n"
     ]
    }
   ],
   "source": [
    "%timeit sum(massive_array) # Python's sum() function\n",
    "%timeit np.sum(massive_array) # NumPy's sum() dunction"
   ]
  },
  {
   "cell_type": "code",
   "execution_count": 74,
   "metadata": {},
   "outputs": [
    {
     "data": {
      "text/plain": [
       "5442.307692307692"
      ]
     },
     "execution_count": 74,
     "metadata": {},
     "output_type": "execute_result"
    }
   ],
   "source": [
    "(566e-3)/104e-6"
   ]
  },
  {
   "cell_type": "code",
   "execution_count": 75,
   "metadata": {},
   "outputs": [
    {
     "data": {
      "text/plain": [
       "[0.8284531949961254,\n",
       " 0.9418092681914485,\n",
       " 0.12814785400273287,\n",
       " 0.23043067441021947,\n",
       " 0.6591583970705609,\n",
       " 0.13247398881674854,\n",
       " 0.22407863694631935,\n",
       " 0.5748625875891491,\n",
       " 0.16952372356620915,\n",
       " 0.7822301513237783,\n",
       " 0.8569756261117601,\n",
       " 0.03367420450284819,\n",
       " 0.5326448049436736,\n",
       " 0.7969513574435644,\n",
       " 0.9751396811571157,\n",
       " 0.27425859319442125,\n",
       " 0.16910106336538333,\n",
       " 0.8767009301816353,\n",
       " 0.9091824637608487,\n",
       " 0.19753288946715686,\n",
       " 0.4415297427026398,\n",
       " 0.7192321416923365,\n",
       " 0.8453451587639734,\n",
       " 0.16827530536724433,\n",
       " 0.664968962904761,\n",
       " 0.8078354592960695,\n",
       " 0.5497141208007275,\n",
       " 0.16471665877901287,\n",
       " 0.03552880483036336,\n",
       " 0.28153381784849374,\n",
       " 0.8078708464535516,\n",
       " 0.044766260845139016,\n",
       " 0.008216505039312039,\n",
       " 0.36161664771205726,\n",
       " 0.06362228569855188,\n",
       " 0.1494863033242304,\n",
       " 0.023190368099362146,\n",
       " 0.5247198367686319,\n",
       " 0.6966959021894129,\n",
       " 0.42705349301372764,\n",
       " 0.13457045864468764,\n",
       " 0.33135721096240567,\n",
       " 0.5903458543063351,\n",
       " 0.9406613933963881,\n",
       " 0.9925577191726402,\n",
       " 0.2416029166538498,\n",
       " 0.010579906938345762,\n",
       " 0.8306403259938047,\n",
       " 0.9266129377700566,\n",
       " 0.45860347976796934,\n",
       " 0.7714423445636822,\n",
       " 0.8661990340843911,\n",
       " 0.6096147983345592,\n",
       " 0.8726271831441871,\n",
       " 0.023903026142330863,\n",
       " 0.27159522025956384,\n",
       " 0.27721958269429525,\n",
       " 0.12063242830615817,\n",
       " 0.9107134542882382,\n",
       " 0.030439266665623133,\n",
       " 0.6725610295221127,\n",
       " 0.0713396872572073,\n",
       " 0.36078049378522115,\n",
       " 0.4180995426775659,\n",
       " 0.18140428905736694,\n",
       " 0.5210141032821763,\n",
       " 0.5349917609279157,\n",
       " 0.31704388193619615,\n",
       " 0.7370880595522907,\n",
       " 0.1602024106191695,\n",
       " 0.19250821895985537,\n",
       " 0.35451101804560603,\n",
       " 0.3783761334314193,\n",
       " 0.20628585650065434,\n",
       " 0.9187092051422681,\n",
       " 0.8280935695469476,\n",
       " 0.1068767442566414,\n",
       " 0.369485915660384,\n",
       " 0.23267109563197375,\n",
       " 0.4510786029505425,\n",
       " 0.2763171862107934,\n",
       " 0.5018068911184235,\n",
       " 0.9226031530779568,\n",
       " 0.3825111389298338,\n",
       " 0.6501283286286327,\n",
       " 0.5956211130203741,\n",
       " 0.7519535611422076,\n",
       " 0.06166533016986864,\n",
       " 0.7448236736818096,\n",
       " 0.9462759271724278,\n",
       " 0.6035595516954865,\n",
       " 0.28757994211990023,\n",
       " 0.6723692184292864,\n",
       " 0.7120487867813948,\n",
       " 0.656450286538602,\n",
       " 0.14693031569354353,\n",
       " 0.9734755682697008,\n",
       " 0.9553834518208789,\n",
       " 0.4246255327956413,\n",
       " 0.5936373294088721,\n",
       " 0.039628573866894334,\n",
       " 0.9886343345619386,\n",
       " 0.8187449926232988,\n",
       " 0.6365023424296673,\n",
       " 0.7610847442216859,\n",
       " 0.18802992858258616,\n",
       " 0.30765459009285157,\n",
       " 0.24639364428572086,\n",
       " 0.5960491201251504,\n",
       " 0.09190485216377231,\n",
       " 0.895609985214942,\n",
       " 0.46227594213072765,\n",
       " 0.4448123649543787,\n",
       " 0.10471130357324376,\n",
       " 0.6849040370601138,\n",
       " 0.8168939943424481,\n",
       " 0.6295501714623319,\n",
       " 0.24202260746413284,\n",
       " 0.7854207215855097,\n",
       " 0.14567943338343392,\n",
       " 0.8272763289795971,\n",
       " 0.5807053706118858,\n",
       " 0.2893728115784362,\n",
       " 0.513243399843739,\n",
       " 0.628851403064647,\n",
       " 0.2585894985926458,\n",
       " 0.846906560459974,\n",
       " 0.42125370859927336,\n",
       " 0.8923374572552321,\n",
       " 0.8354685611475348,\n",
       " 0.09934751415963061,\n",
       " 0.6462541094487922,\n",
       " 0.3104945664957425,\n",
       " 0.7540531969831749,\n",
       " 0.5426316574477315,\n",
       " 0.457598874651717,\n",
       " 0.895366784537062,\n",
       " 0.057253559800167664,\n",
       " 0.5573176258679793,\n",
       " 0.3279110992966764,\n",
       " 0.035273336313462744,\n",
       " 0.7535185187029176,\n",
       " 0.5617406560688765,\n",
       " 0.8941453369562156,\n",
       " 0.5982612275718309,\n",
       " 0.337034279430268,\n",
       " 0.9852196553795466,\n",
       " 0.1157140506093054,\n",
       " 0.05260174257878858,\n",
       " 0.7326219094520809,\n",
       " 0.37087489928948425,\n",
       " 0.3614650786285366,\n",
       " 0.8765321564895722,\n",
       " 0.3272936465153866,\n",
       " 0.8889885968841091,\n",
       " 0.6439879792316223,\n",
       " 0.3290495438867621,\n",
       " 0.05953265441246691,\n",
       " 0.2451093526405581,\n",
       " 0.9684132012168495,\n",
       " 0.405267640233955,\n",
       " 0.16003346144532782,\n",
       " 0.2980132492008535,\n",
       " 0.8995757788613248,\n",
       " 0.16497671550850213,\n",
       " 0.7778600665672813,\n",
       " 0.13486463139689686,\n",
       " 0.9613937134379236,\n",
       " 0.5302053860915623,\n",
       " 0.04316993559752147,\n",
       " 0.9309546777401997,\n",
       " 0.3582255444591219,\n",
       " 0.7314212789001067,\n",
       " 0.5237080147997484,\n",
       " 0.09258180314495723,\n",
       " 0.10605921802055862,\n",
       " 0.14922495069108677,\n",
       " 0.16120000921684696,\n",
       " 0.05275579312450329,\n",
       " 0.047013165032900206,\n",
       " 0.9484282960587186,\n",
       " 0.09129178998961429,\n",
       " 0.5083516758883896,\n",
       " 0.11862982037357617,\n",
       " 0.21478785120871058,\n",
       " 0.7630720727810838,\n",
       " 0.9381348210283492,\n",
       " 0.4697126947232173,\n",
       " 0.005641953918997911,\n",
       " 0.999208301397325,\n",
       " 0.04777321268593582,\n",
       " 0.38944790403053664,\n",
       " 0.5390567006816359,\n",
       " 0.8917334375542192,\n",
       " 0.8231121116605418,\n",
       " 0.6093866410446241,\n",
       " 0.39860229097586564,\n",
       " 0.8344787191622668,\n",
       " 0.8690583863056699,\n",
       " 0.8719049073459855,\n",
       " 0.7176364354133487,\n",
       " 0.09778734397791733,\n",
       " 0.29857942813439897,\n",
       " 0.48592205598747296,\n",
       " 0.5050533672013412,\n",
       " 0.8328734127375139,\n",
       " 0.23783677370292255,\n",
       " 0.6645907555488578,\n",
       " 0.3741998974615941,\n",
       " 0.7754825532263566,\n",
       " 0.1957743293224542,\n",
       " 0.47662729339302723,\n",
       " 0.10355858036340682,\n",
       " 0.21199017413297783,\n",
       " 0.9351746863442698,\n",
       " 0.3160471105078284,\n",
       " 0.8929770040899982,\n",
       " 0.5243030874856213,\n",
       " 0.03903315147522535,\n",
       " 0.7929816823338568,\n",
       " 0.05195689513248958,\n",
       " 0.8269435283639895,\n",
       " 0.0087991107002795,\n",
       " 0.6741113273466744,\n",
       " 0.16571392474611746,\n",
       " 0.3428752381260801,\n",
       " 0.9527513947953482,\n",
       " 0.4862334731308532,\n",
       " 0.6574263851618577,\n",
       " 0.7407350962614845,\n",
       " 0.10992797653721198,\n",
       " 0.838795758110978,\n",
       " 0.9139199387225516,\n",
       " 0.15542065234940894,\n",
       " 0.5462384288947734,\n",
       " 0.2835051231872592,\n",
       " 0.7406467308597892,\n",
       " 0.028270392857499327,\n",
       " 0.512547003441387,\n",
       " 0.7928148553566389,\n",
       " 0.7347369077925268,\n",
       " 0.10818383143364096,\n",
       " 0.8329401087337758,\n",
       " 0.2378407301170733,\n",
       " 0.8077876312168312,\n",
       " 0.49712883186244583,\n",
       " 0.16082576513729407,\n",
       " 0.7340406775670077,\n",
       " 0.807912952139197,\n",
       " 0.6989011499859489,\n",
       " 0.9648463390269616,\n",
       " 0.2561444512059512,\n",
       " 0.23576232699798172,\n",
       " 0.14723009181160007,\n",
       " 0.5394062099506569,\n",
       " 0.39944882238571555,\n",
       " 0.3566620487145734,\n",
       " 0.4603046009318612,\n",
       " 0.27454222792907357,\n",
       " 0.004260377665059822,\n",
       " 0.47175068885141214,\n",
       " 0.2758845165081465,\n",
       " 0.4497836089298881,\n",
       " 0.9288751140115937,\n",
       " 0.17900540683472177,\n",
       " 0.6374835780068095,\n",
       " 0.6444148962624405,\n",
       " 0.281293183556632,\n",
       " 0.4708879967290682,\n",
       " 0.9696116416313242,\n",
       " 0.34246012540114046,\n",
       " 0.7123451824521829,\n",
       " 0.8402191556813096,\n",
       " 0.3606911077169659,\n",
       " 0.9899141340532303,\n",
       " 0.6258692404776313,\n",
       " 0.5009852705939224,\n",
       " 0.7149075175062505,\n",
       " 0.4238299338665591,\n",
       " 0.7123267228435931,\n",
       " 0.27480238333460283,\n",
       " 0.9272083143456884,\n",
       " 0.5419628379337594,\n",
       " 0.24164949358725563,\n",
       " 0.4371966684315023,\n",
       " 0.8950965406208952,\n",
       " 0.8070553190721129,\n",
       " 0.48446895203866336,\n",
       " 0.3517016767403299,\n",
       " 0.3762474141022907,\n",
       " 0.981195357595743,\n",
       " 0.11221278513169952,\n",
       " 0.8890238955692091,\n",
       " 0.8576088734266992,\n",
       " 0.22438840593729437,\n",
       " 0.34935873416797913,\n",
       " 0.5695598867254332,\n",
       " 0.8023927037402467,\n",
       " 0.9504454053381364,\n",
       " 0.991808703583101,\n",
       " 0.2812317068822252,\n",
       " 0.19236357434085072,\n",
       " 0.48772515266748817,\n",
       " 0.5575639009340683,\n",
       " 0.6567046803932749,\n",
       " 0.10759113231433648,\n",
       " 0.6463560193551533,\n",
       " 0.9213790806783381,\n",
       " 0.9152010678295414,\n",
       " 0.9437739993000753,\n",
       " 0.9223395975318839,\n",
       " 0.9607778274826423,\n",
       " 0.048692537116349466,\n",
       " 0.9160181907022661,\n",
       " 0.27121280789210334,\n",
       " 0.3206657354661555,\n",
       " 0.4586142409479629,\n",
       " 0.9552803950076347,\n",
       " 0.6050889026557299,\n",
       " 0.3526932166520369,\n",
       " 0.37415764755276726,\n",
       " 0.9049284888231673,\n",
       " 0.8223475682359707,\n",
       " 0.13753772023597588,\n",
       " 0.24868186615716859,\n",
       " 0.3719452010692397,\n",
       " 0.21674199029017294,\n",
       " 0.5634817527136177,\n",
       " 0.2236387599459807,\n",
       " 0.5749244964469973,\n",
       " 0.9360246214061883,\n",
       " 0.848675975533586,\n",
       " 0.09926346308256806,\n",
       " 0.20690479837042774,\n",
       " 0.41274924226399945,\n",
       " 0.6461275766592475,\n",
       " 0.3865663628348851,\n",
       " 0.25161236834020884,\n",
       " 0.344659037128738,\n",
       " 0.20401358652979107,\n",
       " 0.8618667195226829,\n",
       " 0.6972517123433287,\n",
       " 0.4110291024059428,\n",
       " 0.7004314282099708,\n",
       " 0.5197293174787262,\n",
       " 0.5262622111585703,\n",
       " 0.3673556084639532,\n",
       " 0.4882183585723071,\n",
       " 0.9855162416953693,\n",
       " 0.784464867312748,\n",
       " 0.8277002926517436,\n",
       " 0.12437185142418172,\n",
       " 0.504273983084654,\n",
       " 0.36690094040206267,\n",
       " 0.08890697072754417,\n",
       " 0.3952770262363481,\n",
       " 0.07418767473225829,\n",
       " 0.23401971446524739,\n",
       " 0.7987627112516095,\n",
       " 0.686217476243966,\n",
       " 0.6985466383465934,\n",
       " 0.07935787693081364,\n",
       " 0.16398227758722628,\n",
       " 0.021584144070867173,\n",
       " 0.09751452691002915,\n",
       " 0.10121880242811643,\n",
       " 0.9601446916211,\n",
       " 0.8939512634713341,\n",
       " 0.20425397855343008,\n",
       " 0.25381295470761933,\n",
       " 0.9608778491357932,\n",
       " 0.5699976471255251,\n",
       " 0.3685232926897146,\n",
       " 0.46654429147510657,\n",
       " 0.27220994867786064,\n",
       " 0.5835772799893953,\n",
       " 0.7252718223897827,\n",
       " 0.5154482557382004,\n",
       " 0.8206663345385308,\n",
       " 0.11321053506097756,\n",
       " 0.603652973857912,\n",
       " 0.9896022973054645,\n",
       " 0.1490790498675565,\n",
       " 0.4950360663957767,\n",
       " 0.6301452844417437,\n",
       " 0.3375294202117991,\n",
       " 0.9646173192524804,\n",
       " 0.48541040769212185,\n",
       " 0.4786986863177315,\n",
       " 0.9026637044263727,\n",
       " 0.015910411244439815,\n",
       " 0.8688851589766611,\n",
       " 0.12907340078775342,\n",
       " 0.37916841822639635,\n",
       " 0.4884561704309821,\n",
       " 0.47655869691565855,\n",
       " 0.039408558168117946,\n",
       " 0.31710712739428615,\n",
       " 0.3567946903673459,\n",
       " 0.9561793268639441,\n",
       " 0.9169853749785909,\n",
       " 0.5843486341965979,\n",
       " 0.9333677049373144,\n",
       " 0.8637124033444644,\n",
       " 0.37572270111652595,\n",
       " 0.11696685105567062,\n",
       " 0.6071375469001652,\n",
       " 0.323009439198225,\n",
       " 0.00974250291163048,\n",
       " 0.9811793521245372,\n",
       " 0.9692760954489992,\n",
       " 0.5368064457790755,\n",
       " 0.6181857022194579,\n",
       " 0.6688668017610364,\n",
       " 0.9265387090440508,\n",
       " 0.46750867802927765,\n",
       " 0.582878176454622,\n",
       " 0.22653965650377017,\n",
       " 0.2423982425050334,\n",
       " 0.5221121947225905,\n",
       " 0.2292049514102351,\n",
       " 0.030252785430060825,\n",
       " 0.3684079594813471,\n",
       " 0.7499451441365527,\n",
       " 0.27707018279551543,\n",
       " 0.8627039384880808,\n",
       " 0.7025023847332037,\n",
       " 0.6533191091480492,\n",
       " 0.8924831409031366,\n",
       " 0.07381103074993955,\n",
       " 0.1787653995049835,\n",
       " 0.9092702224593885,\n",
       " 0.9070373768197907,\n",
       " 0.0782672558984896,\n",
       " 0.7742315525552211,\n",
       " 0.015432415436890667,\n",
       " 0.13523555336854598,\n",
       " 0.10976057369371028,\n",
       " 0.2939955778183827,\n",
       " 0.3882684206436099,\n",
       " 0.9108738642708617,\n",
       " 0.4363978127729553,\n",
       " 0.12384907739358952,\n",
       " 0.27234874715073365,\n",
       " 0.0063768281012825945,\n",
       " 0.028049402896189624,\n",
       " 0.43106832145642826,\n",
       " 0.5121882681917762,\n",
       " 0.2499615832791,\n",
       " 0.3798924166924592,\n",
       " 0.10336897269153933,\n",
       " 0.6588215617744619,\n",
       " 0.3926055704676572,\n",
       " 0.16152559947465905,\n",
       " 0.4973936312862197,\n",
       " 0.2083748397529398,\n",
       " 0.29212927796628596,\n",
       " 0.12417043286141782,\n",
       " 0.7807304911647672,\n",
       " 0.279315228275671,\n",
       " 0.9556766559053811,\n",
       " 0.40543191089685615,\n",
       " 0.15519449168211252,\n",
       " 0.7052129689934266,\n",
       " 0.7335581482586642,\n",
       " 0.8813196460233809,\n",
       " 0.13151247592984172,\n",
       " 0.7898859590776569,\n",
       " 0.8597590874616505,\n",
       " 0.30451829519588325,\n",
       " 0.4544821816112139,\n",
       " 0.6196419590419111,\n",
       " 0.2455131433178379,\n",
       " 0.8713559196315916,\n",
       " 0.6991942549110868,\n",
       " 0.8566830458693316,\n",
       " 0.4499150499185628,\n",
       " 0.5189983629327564,\n",
       " 0.19425444503011624,\n",
       " 0.3140243815958631,\n",
       " 0.7295121595199209,\n",
       " 0.9590077781677199,\n",
       " 0.15210286842093013,\n",
       " 0.050643527733202354,\n",
       " 0.06745267411962508,\n",
       " 0.4354717688219678,\n",
       " 0.7926712773169131,\n",
       " 0.22487727003934888,\n",
       " 0.47713207139518465,\n",
       " 0.515402183663472,\n",
       " 0.8377023980771687,\n",
       " 0.16403320698338342,\n",
       " 0.0147186060807597,\n",
       " 0.5066550323256429,\n",
       " 0.3552459167806007,\n",
       " 0.29216537585678604,\n",
       " 0.7722370974565839,\n",
       " 0.6834670713805222,\n",
       " 0.08393714768006222,\n",
       " 0.5481033627263667,\n",
       " 0.7978446191105952,\n",
       " 0.9096843374752063,\n",
       " 0.00018491902993955645,\n",
       " 0.8075500986858035,\n",
       " 0.04324792766058927,\n",
       " 0.6821205804105755,\n",
       " 0.5980071036505689,\n",
       " 0.9520162922399957,\n",
       " 0.6318790922401964,\n",
       " 0.06993906408407957,\n",
       " 0.670397983148165,\n",
       " 0.25492041664867227,\n",
       " 0.8319439935347426,\n",
       " 0.03146208991060351,\n",
       " 0.32413582377154904,\n",
       " 0.6764358869800243,\n",
       " 0.15563480013998365,\n",
       " 0.6462720092557019,\n",
       " 0.6972248052781891,\n",
       " 0.7337776649638684,\n",
       " 0.8753351921510779,\n",
       " 0.4131661160519794,\n",
       " 0.14248297349124084,\n",
       " 0.2603109303911456,\n",
       " 0.38968540144265285,\n",
       " 0.054577570176632784,\n",
       " 0.7085488297493479,\n",
       " 0.06301064777412224,\n",
       " 0.05770875722846036,\n",
       " 0.9324995372217993,\n",
       " 0.8062458783408415,\n",
       " 0.2536810468136307,\n",
       " 0.34170809180630035,\n",
       " 0.8259196998012194,\n",
       " 0.6192354646583524,\n",
       " 0.26491761620967536,\n",
       " 0.4490191959399702,\n",
       " 0.8555595873168996,\n",
       " 0.0006913526320485586,\n",
       " 0.9923938664544835,\n",
       " 0.5659335339854799,\n",
       " 0.18202007679028998,\n",
       " 0.8001928057605164,\n",
       " 0.0761951880274302,\n",
       " 0.41000007936986693,\n",
       " 0.5731322632681805,\n",
       " 0.24719434828197784,\n",
       " 0.8852328174375587,\n",
       " 0.6968940385765474,\n",
       " 0.16182813889671366,\n",
       " 0.15259950172875503,\n",
       " 0.06193319751351434,\n",
       " 0.5714985141123747,\n",
       " 0.18726701013231262,\n",
       " 0.542982676095603,\n",
       " 0.8194724781232162,\n",
       " 0.8791850207683671,\n",
       " 0.11635033660355865,\n",
       " 0.33223742627782027,\n",
       " 0.4173757174090086,\n",
       " 0.3834174765567997,\n",
       " 0.41882895745419135,\n",
       " 0.45998748135344514,\n",
       " 0.7565502954746656,\n",
       " 0.30551578924566625,\n",
       " 0.34342432792680133,\n",
       " 0.39024473503471857,\n",
       " 0.15121846518914184,\n",
       " 0.6303734331444929,\n",
       " 0.40024602301191214,\n",
       " 0.916152575709755,\n",
       " 0.8214158752778042,\n",
       " 0.2301799038896999,\n",
       " 0.24231397219120976,\n",
       " 0.7822705914973477,\n",
       " 0.5598869553608793,\n",
       " 0.010210705697591416,\n",
       " 0.6298830526532523,\n",
       " 0.394912912348374,\n",
       " 0.7852137653116322,\n",
       " 0.7468470344834252,\n",
       " 0.9223280085419,\n",
       " 0.6992859712643673,\n",
       " 0.9129785868431055,\n",
       " 0.28465481866109177,\n",
       " 0.33871568992326884,\n",
       " 0.059200845313875594,\n",
       " 0.8669361094050653,\n",
       " 0.15421758789417628,\n",
       " 0.5513195121573071,\n",
       " 0.5091953884332735,\n",
       " 0.8139350789453603,\n",
       " 0.3879894664107344,\n",
       " 0.14266467212630562,\n",
       " 0.38308104599808623,\n",
       " 0.04804999461665238,\n",
       " 0.30146981318601596,\n",
       " 0.630002712218245,\n",
       " 0.057143144068675045,\n",
       " 0.9896962264528147,\n",
       " 0.5361890889334342,\n",
       " 0.3000718531969264,\n",
       " 0.8337872434508156,\n",
       " 0.13746518126975782,\n",
       " 0.3219639719627222,\n",
       " 0.937150007971858,\n",
       " 0.23993308235718303,\n",
       " 0.7328919271953428,\n",
       " 0.08093038250802342,\n",
       " 0.5324746359332534,\n",
       " 0.6581111061964737,\n",
       " 0.20972304535300113,\n",
       " 0.32763012154924287,\n",
       " 0.5505090767309417,\n",
       " 0.5899849585132731,\n",
       " 0.15421755612532817,\n",
       " 0.4107746524519652,\n",
       " 0.9997330141673058,\n",
       " 0.3224349431312179,\n",
       " 0.785356060507633,\n",
       " 0.20161392333706807,\n",
       " 0.46119396345358565,\n",
       " 0.518169554085777,\n",
       " 0.5960182899260291,\n",
       " 0.717652974830125,\n",
       " 0.7959103772080438,\n",
       " 0.7001657153343475,\n",
       " 0.8072005205099109,\n",
       " 0.8859616994673953,\n",
       " 0.32611928507066934,\n",
       " 0.8273093048975675,\n",
       " 0.5199781856033348,\n",
       " 0.25942786622237113,\n",
       " 0.17307370440126757,\n",
       " 0.7644490065818403,\n",
       " 0.636632828518914,\n",
       " 0.07073136890789489,\n",
       " 0.5874537254219082,\n",
       " 0.04454661955496497,\n",
       " 0.39125605053320867,\n",
       " 0.5711612379387329,\n",
       " 0.6501946546552887,\n",
       " 0.15785275580853553,\n",
       " 0.044836639214591134,\n",
       " 0.5760237642499083,\n",
       " 0.8187842560531288,\n",
       " 0.7966116310355754,\n",
       " 0.3596598915351783,\n",
       " 0.5769511171255526,\n",
       " 0.718697879689063,\n",
       " 0.8731883907118612,\n",
       " 0.49162728642766695,\n",
       " 0.875500114706912,\n",
       " 0.3177288798955946,\n",
       " 0.21925214124553816,\n",
       " 0.2941232814111032,\n",
       " 0.7297674226733177,\n",
       " 0.8851404133120045,\n",
       " 0.47118218900340225,\n",
       " 0.695917733374681,\n",
       " 0.13881375439542343,\n",
       " 0.5074292852031799,\n",
       " 0.43484114327295664,\n",
       " 0.43160425997170515,\n",
       " 0.18804466248264629,\n",
       " 0.6227810443865497,\n",
       " 0.6720723095134707,\n",
       " 0.6363238149667502,\n",
       " 0.7427563191082552,\n",
       " 0.4582233064056912,\n",
       " 0.8525994904986709,\n",
       " 0.5712121995627553,\n",
       " 0.8818100041174853,\n",
       " 0.41015475318728944,\n",
       " 0.7001386192546207,\n",
       " 0.19680503074155298,\n",
       " 0.0830669982802148,\n",
       " 0.9315023915455654,\n",
       " 0.37083774488982424,\n",
       " 0.04569851760286925,\n",
       " 0.6184535124778691,\n",
       " 0.9332612253671294,\n",
       " 0.7690089987808818,\n",
       " 0.987247113030354,\n",
       " 0.9351169274831818,\n",
       " 0.45553347898405694,\n",
       " 0.2339097472639352,\n",
       " 0.06523848369515972,\n",
       " 0.27212372219935754,\n",
       " 0.6321521424016935,\n",
       " 0.9108913259642042,\n",
       " 0.001707878042255584,\n",
       " 0.8174844695622197,\n",
       " 0.7644647933703086,\n",
       " 0.6909825452546333,\n",
       " 0.1278771632282204,\n",
       " 0.05325557266111258,\n",
       " 0.7367542185563071,\n",
       " 0.6414092415349312,\n",
       " 0.3698980739484795,\n",
       " 0.3455080667631397,\n",
       " 0.03264336451880134,\n",
       " 0.9934342682419106,\n",
       " 0.8366421520834031,\n",
       " 0.9741907629378853,\n",
       " 0.8180374743094045,\n",
       " 0.45885291274484075,\n",
       " 0.8451647964507859,\n",
       " 0.1983574958173624,\n",
       " 0.672474658209358,\n",
       " 0.23721934515912924,\n",
       " 0.39247746635638325,\n",
       " 0.8716800988542341,\n",
       " 0.42495108826209294,\n",
       " 0.8937160440017933,\n",
       " 0.5995593766878622,\n",
       " 0.293746141226241,\n",
       " 0.26035696480621595,\n",
       " 0.0033740585466850437,\n",
       " 0.5720980419319417,\n",
       " 0.8385695678866606,\n",
       " 0.22471847233704823,\n",
       " 0.47924309117227704,\n",
       " 0.98389607145925,\n",
       " 0.3933873529186044,\n",
       " 0.9384468324119419,\n",
       " 0.826590714843173,\n",
       " 0.4946125810746005,\n",
       " 0.6353641632890167,\n",
       " 0.06558310691123526,\n",
       " 0.5164326060245032,\n",
       " 0.7599335792572646,\n",
       " 0.23036659172786056,\n",
       " 0.05148670155950852,\n",
       " 0.029401191488326206,\n",
       " 0.16031574114841984,\n",
       " 0.23776699812819602,\n",
       " 0.8054016874005463,\n",
       " 0.45911453994278284,\n",
       " 0.5355583774564454,\n",
       " 0.3131010580868181,\n",
       " 0.2988283280262216,\n",
       " 0.5534854923200385,\n",
       " 0.7457890132383214,\n",
       " 0.1806901662178415,\n",
       " 0.4346494499233985,\n",
       " 0.6440869522905317,\n",
       " 0.9600938805489981,\n",
       " 0.26940368688550465,\n",
       " 0.3928640426759552,\n",
       " 0.5693022959825481,\n",
       " 0.14189755508509827,\n",
       " 0.6115829717156172,\n",
       " 0.97445724681956,\n",
       " 0.27342025842317497,\n",
       " 0.4805815586037563,\n",
       " 0.1176382647967319,\n",
       " 0.518060251582131,\n",
       " 0.9715769183534421,\n",
       " 0.5423762597635021,\n",
       " 0.2135014522893427,\n",
       " 0.3107572400259978,\n",
       " 0.6264074396443214,\n",
       " 0.8570234378123661,\n",
       " 0.45343769155986857,\n",
       " 0.4901201217909571,\n",
       " 0.8093553204242412,\n",
       " 0.10529371729263481,\n",
       " 0.9512456088267535,\n",
       " 0.46476506141316587,\n",
       " 0.33164985825974425,\n",
       " 0.778544894736933,\n",
       " 0.2564726238372458,\n",
       " 0.1464366284328381,\n",
       " 0.25812168292054705,\n",
       " 0.6725308697908485,\n",
       " 0.10066798021565704,\n",
       " 0.4513090727358072,\n",
       " 0.23555932146414182,\n",
       " 0.5456781657687391,\n",
       " 0.13828044177722676,\n",
       " 0.7739662669356301,\n",
       " 0.9239125658053686,\n",
       " 0.31935921774823695,\n",
       " 0.35447856622352214,\n",
       " 0.5980852399723197,\n",
       " 0.738818338720325,\n",
       " 0.05827368327654625,\n",
       " 0.6747781952137193,\n",
       " 0.8142482445937638,\n",
       " 0.7925212091289544,\n",
       " 0.4386013819580289,\n",
       " 0.8227704352972897,\n",
       " 0.5470766838896385,\n",
       " 0.18672508874890625,\n",
       " 0.28573683900488145,\n",
       " 0.5927359584108365,\n",
       " 0.5524748034368855,\n",
       " 0.802168272095533,\n",
       " 0.7148934825586795,\n",
       " 0.2130601496623663,\n",
       " 0.3973863306984621,\n",
       " 0.7780741808327621,\n",
       " 0.4581181275815358,\n",
       " 0.2250302589628671,\n",
       " 0.9370947669703432,\n",
       " 0.4490755944719781,\n",
       " 0.30872692752100683,\n",
       " 0.5112582706328985,\n",
       " 0.3009183586357891,\n",
       " 0.27038375972565754,\n",
       " 0.6615317883985666,\n",
       " 0.795233308561146,\n",
       " 0.40883173663850536,\n",
       " 0.16094016575767944,\n",
       " 0.47579538789023323,\n",
       " 0.40160074223283315,\n",
       " 0.4357112991570824,\n",
       " 0.23987599602631848,\n",
       " 0.7695973691264705,\n",
       " 0.20222761054009575,\n",
       " 0.03864652494159326,\n",
       " 0.700113631258398,\n",
       " 0.7425011397753991,\n",
       " 0.23875935596294073,\n",
       " 0.17340592026881518,\n",
       " 0.5805312794062282,\n",
       " 0.9196304342503806,\n",
       " 0.2539832972118542,\n",
       " 0.540004196196715,\n",
       " 0.264378219771658,\n",
       " 0.7416477811960255,\n",
       " 0.46709639060336605,\n",
       " 0.37895634901511954,\n",
       " 0.6561405758081706,\n",
       " 0.5314195407240352,\n",
       " 0.20114935086895502,\n",
       " 0.416212242495802,\n",
       " 0.956493507916226,\n",
       " 0.8011352140683646,\n",
       " 0.5121086045327933,\n",
       " 0.6604632515337905,\n",
       " 0.14237142443265227,\n",
       " 0.4131933730136169,\n",
       " 0.8948163694820769,\n",
       " 0.1881203420666041,\n",
       " 0.9819213344991385,\n",
       " 0.8481110847927462,\n",
       " 0.6861280982539943,\n",
       " 0.3736241513005276,\n",
       " 0.09207755150321106,\n",
       " 0.29468381021917145,\n",
       " 0.7409964745099502,\n",
       " 0.4216213646357093,\n",
       " 0.8028860336216209,\n",
       " 0.21579647639982502,\n",
       " 0.8237461300908712,\n",
       " 0.860111583341083,\n",
       " 0.7221971636246888,\n",
       " 0.20401413534836,\n",
       " 0.22289144097796476,\n",
       " 0.0642943970848997,\n",
       " 0.05130134669245734,\n",
       " 0.7390696321837245,\n",
       " 0.4915166406487732,\n",
       " 0.761511218550976,\n",
       " 0.2827461718069658,\n",
       " 0.3452668730846242,\n",
       " 0.8947035962579937,\n",
       " 0.9973834006145134,\n",
       " 0.10175594247871245,\n",
       " 0.7792520919931823,\n",
       " 0.5561485778409028,\n",
       " 0.004548788666960402,\n",
       " 0.6165501453108307,\n",
       " 0.279928187494378,\n",
       " 0.3505630665853018,\n",
       " 0.969278887329091,\n",
       " 0.7426779134370044,\n",
       " 0.05452174036389146,\n",
       " 0.6809757971170929,\n",
       " 0.012995658201120364,\n",
       " 0.8861938563573561,\n",
       " 0.5966825165627259,\n",
       " 0.6308213101319432,\n",
       " 0.016448753231374513,\n",
       " 0.08378587007198324,\n",
       " 0.526152908756173,\n",
       " 0.38173460826591166,\n",
       " 0.8182954760580945,\n",
       " 0.2839720705188804,\n",
       " 0.3996656833159823,\n",
       " 0.11999873910905323,\n",
       " 0.5028709299268486,\n",
       " 0.9550215718185227,\n",
       " 0.2658968733287944,\n",
       " 0.7908316312385734,\n",
       " 0.1639561141032786,\n",
       " 0.8859029397238743,\n",
       " 0.5126331852355015,\n",
       " 0.1258081649512035,\n",
       " 0.7826966361181696,\n",
       " 0.8875867114180028,\n",
       " 0.1450611685926937,\n",
       " 0.11741592031190518,\n",
       " 0.25138846512509094,\n",
       " 0.5149484434653838,\n",
       " 0.9501103473912675,\n",
       " 0.8605991793014343,\n",
       " 0.3246259754029557,\n",
       " 0.037259982082638365,\n",
       " 0.595707862231175,\n",
       " 0.5747620737856707,\n",
       " 0.24153774213650236,\n",
       " 0.6035606605058776,\n",
       " 0.9815943038036804,\n",
       " 0.14438695164008508,\n",
       " 0.31480237343115114,\n",
       " 0.84793355090983,\n",
       " 0.1591748886167792,\n",
       " 0.12876879593442425,\n",
       " 0.1720218577597723,\n",
       " 0.7696975504706574,\n",
       " 0.12743003149142296,\n",
       " 0.09112458439746474,\n",
       " 0.6269571277929371,\n",
       " 0.7668301773539266,\n",
       " 0.7563464346552121,\n",
       " 0.4331029005801712,\n",
       " 0.9166002985176446,\n",
       " 0.15087528887221524,\n",
       " 0.4415215527114733,\n",
       " 0.36928715524795175,\n",
       " 0.5461860254806569,\n",
       " 0.19326226185280793,\n",
       " 0.14712289159537684,\n",
       " 0.9833583349518396,\n",
       " 0.30212617741699477,\n",
       " 0.499701890598532,\n",
       " 0.9162683518991026,\n",
       " 0.30265186373425323,\n",
       " 0.3665960202936841,\n",
       " 0.5631551261598782,\n",
       " 0.06806237511147828,\n",
       " 0.02337713352988191,\n",
       " 0.6327585848055395,\n",
       " 0.37088131043453965,\n",
       " 0.07950122627640199,\n",
       " 0.28663773852977303,\n",
       " 0.6934564269024357,\n",
       " 0.7596066424743626,\n",
       " 0.5053961410910018,\n",
       " 0.22076415249817294,\n",
       " 0.8394960408794238,\n",
       " 0.20769301625017422,\n",
       " 0.756915549855531,\n",
       " 0.15322397735517201,\n",
       " 0.9348531337494407,\n",
       " 0.7733707820220617,\n",
       " 0.5012397610345267,\n",
       " 0.4341712953397008,\n",
       " 0.5729757482289255,\n",
       " 0.6611143269557697,\n",
       " 0.5578826622960539,\n",
       " 0.6958171758510772,\n",
       " 0.08768104714415303,\n",
       " 0.417169647054938,\n",
       " 0.753482195998536,\n",
       " 0.4383519880101734,\n",
       " 0.9706642786602583,\n",
       " 0.5339848144702273,\n",
       " 0.3109529311206326,\n",
       " 0.8920842569859896,\n",
       " 0.42221953221764086,\n",
       " 0.5461857205227137,\n",
       " 0.6413741755146266,\n",
       " 0.856008163305957,\n",
       " 0.2094386858409515,\n",
       " 0.8738005394984175,\n",
       " 0.5737316876578287,\n",
       " 0.3664444290353108,\n",
       " 0.33524513704607994,\n",
       " 0.9817807971796761,\n",
       " 0.9470798440491606,\n",
       " 0.5456033451734837,\n",
       " 0.346368737804462,\n",
       " 0.9738784965204611,\n",
       " 0.016340966030428117,\n",
       " 0.04892525345080967,\n",
       " 0.4866069035568139,\n",
       " 0.5869911090998863,\n",
       " 0.006547823630988492,\n",
       " 0.18749488339901277,\n",
       " 0.08620462266447049,\n",
       " 0.24980233152041786,\n",
       " 0.18287683245878328,\n",
       " 0.1242837023325819,\n",
       " 0.12945902517985908,\n",
       " 0.3713921444704441,\n",
       " 0.1287374213663649,\n",
       " ...]"
      ]
     },
     "execution_count": 75,
     "metadata": {},
     "output_type": "execute_result"
    }
   ],
   "source": [
    "pylist = list(massive_array)\n",
    "pylist"
   ]
  },
  {
   "cell_type": "code",
   "execution_count": 76,
   "metadata": {},
   "outputs": [
    {
     "data": {
      "text/plain": [
       "array([0.82845319, 0.94180927, 0.12814785, ..., 0.85169378, 0.90935837,\n",
       "       0.67338212])"
      ]
     },
     "execution_count": 76,
     "metadata": {},
     "output_type": "execute_result"
    }
   ],
   "source": [
    "nplist = massive_array\n",
    "nplist"
   ]
  },
  {
   "cell_type": "code",
   "execution_count": 77,
   "metadata": {},
   "outputs": [
    {
     "name": "stdout",
     "output_type": "stream",
     "text": [
      "495 ms ± 13 ms per loop (mean ± std. dev. of 7 runs, 1 loop each)\n",
      "17 ms ± 107 µs per loop (mean ± std. dev. of 7 runs, 100 loops each)\n",
      "519 ms ± 10.6 ms per loop (mean ± std. dev. of 7 runs, 1 loop each)\n",
      "103 µs ± 2.09 µs per loop (mean ± std. dev. of 7 runs, 10000 loops each)\n"
     ]
    }
   ],
   "source": [
    "# %timeit sum(pylist) # Python's sum() function\n",
    "# %timeit np.sum(pylist) # NumPy's sum() dunction\n",
    "\n",
    "# %timeit sum(nplist) # Python's sum() function\n",
    "# %timeit np.sum(nplist) # NumPy's sum() dunction"
   ]
  },
  {
   "cell_type": "code",
   "execution_count": null,
   "metadata": {},
   "outputs": [],
   "source": []
  },
  {
   "cell_type": "code",
   "execution_count": 78,
   "metadata": {},
   "outputs": [
    {
     "data": {
      "text/plain": [
       "array([[1. , 2. , 3.3],\n",
       "       [4. , 5. , 6.5]])"
      ]
     },
     "execution_count": 78,
     "metadata": {},
     "output_type": "execute_result"
    }
   ],
   "source": [
    "a2"
   ]
  },
  {
   "cell_type": "code",
   "execution_count": 79,
   "metadata": {},
   "outputs": [
    {
     "data": {
      "text/plain": [
       "3.6333333333333333"
      ]
     },
     "execution_count": 79,
     "metadata": {},
     "output_type": "execute_result"
    }
   ],
   "source": [
    "np.mean(a2)"
   ]
  },
  {
   "cell_type": "code",
   "execution_count": 80,
   "metadata": {},
   "outputs": [
    {
     "data": {
      "text/plain": [
       "6.5"
      ]
     },
     "execution_count": 80,
     "metadata": {},
     "output_type": "execute_result"
    }
   ],
   "source": [
    "np.max(a2)"
   ]
  },
  {
   "cell_type": "code",
   "execution_count": 81,
   "metadata": {},
   "outputs": [
    {
     "data": {
      "text/plain": [
       "1.0"
      ]
     },
     "execution_count": 81,
     "metadata": {},
     "output_type": "execute_result"
    }
   ],
   "source": [
    "np.min(a2)"
   ]
  },
  {
   "cell_type": "code",
   "execution_count": 82,
   "metadata": {},
   "outputs": [
    {
     "data": {
      "text/plain": [
       "1.8226964152656422"
      ]
     },
     "execution_count": 82,
     "metadata": {},
     "output_type": "execute_result"
    }
   ],
   "source": [
    "np.std(a2)\n",
    "# Standard deviation is a measure of how spread out a group aof nmbers is."
   ]
  },
  {
   "cell_type": "code",
   "execution_count": 83,
   "metadata": {},
   "outputs": [
    {
     "data": {
      "text/plain": [
       "3.3222222222222224"
      ]
     },
     "execution_count": 83,
     "metadata": {},
     "output_type": "execute_result"
    }
   ],
   "source": [
    "np.var(a2)\n",
    "#Variance is the measure of the average degree to which each number is different from the mean."
   ]
  },
  {
   "cell_type": "code",
   "execution_count": 84,
   "metadata": {},
   "outputs": [],
   "source": [
    "#Demo of std and var\n",
    "high_var_array = np.array([1, 100, 200, 300, 4000, 5000])\n",
    "low_var_array = np.array([2, 4, 6, 8, 10])"
   ]
  },
  {
   "cell_type": "code",
   "execution_count": 85,
   "metadata": {},
   "outputs": [
    {
     "data": {
      "text/plain": [
       "(4296133.472222221, 8.0)"
      ]
     },
     "execution_count": 85,
     "metadata": {},
     "output_type": "execute_result"
    }
   ],
   "source": [
    "np.var(high_var_array), np.var(low_var_array)"
   ]
  },
  {
   "cell_type": "code",
   "execution_count": 86,
   "metadata": {},
   "outputs": [
    {
     "data": {
      "text/plain": [
       "(2072.711623024829, 2.8284271247461903)"
      ]
     },
     "execution_count": 86,
     "metadata": {},
     "output_type": "execute_result"
    }
   ],
   "source": [
    "np.std(high_var_array), np.std(low_var_array)"
   ]
  },
  {
   "cell_type": "code",
   "execution_count": 87,
   "metadata": {},
   "outputs": [
    {
     "data": {
      "text/plain": [
       "(1600.1666666666667, 6.0)"
      ]
     },
     "execution_count": 87,
     "metadata": {},
     "output_type": "execute_result"
    }
   ],
   "source": [
    "np.mean(high_var_array), np.mean(low_var_array)"
   ]
  },
  {
   "cell_type": "code",
   "execution_count": 88,
   "metadata": {},
   "outputs": [
    {
     "data": {
      "image/png": "[encoded data removed]",
      "text/plain": [
       "<Figure size 432x288 with 1 Axes>"
      ]
     },
     "metadata": {
      "needs_background": "light"
     },
     "output_type": "display_data"
    }
   ],
   "source": [
    "import matplotlib.pyplot as plt\n",
    "plt.hist(high_var_array)\n",
    "plt.show()"
   ]
  },
  {
   "cell_type": "code",
   "execution_count": 89,
   "metadata": {},
   "outputs": [
    {
     "data": {
      "image/png": "[encoded data removed]",
      "text/plain": [
       "<Figure size 432x288 with 1 Axes>"
      ]
     },
     "metadata": {
      "needs_background": "light"
     },
     "output_type": "display_data"
    }
   ],
   "source": [
    "plt.hist(low_var_array)\n",
    "plt.show()"
   ]
  },
  {
   "cell_type": "markdown",
   "metadata": {},
   "source": [
    "# Reshaping and transposing"
   ]
  },
  {
   "cell_type": "code",
   "execution_count": 90,
   "metadata": {},
   "outputs": [
    {
     "data": {
      "text/plain": [
       "array([1, 2, 3])"
      ]
     },
     "execution_count": 90,
     "metadata": {},
     "output_type": "execute_result"
    }
   ],
   "source": [
    "a1"
   ]
  },
  {
   "cell_type": "code",
   "execution_count": 91,
   "metadata": {},
   "outputs": [
    {
     "data": {
      "text/plain": [
       "array([[1. , 2. , 3.3],\n",
       "       [4. , 5. , 6.5]])"
      ]
     },
     "execution_count": 91,
     "metadata": {},
     "output_type": "execute_result"
    }
   ],
   "source": [
    "a2"
   ]
  },
  {
   "cell_type": "code",
   "execution_count": 92,
   "metadata": {},
   "outputs": [
    {
     "data": {
      "text/plain": [
       "array([[[ 1,  2,  3],\n",
       "        [ 4,  5,  6],\n",
       "        [ 7,  8,  9]],\n",
       "\n",
       "       [[10, 11, 12],\n",
       "        [12, 14, 15],\n",
       "        [16, 17, 18]]])"
      ]
     },
     "execution_count": 92,
     "metadata": {},
     "output_type": "execute_result"
    }
   ],
   "source": [
    "a3"
   ]
  },
  {
   "cell_type": "code",
   "execution_count": 93,
   "metadata": {},
   "outputs": [
    {
     "ename": "ValueError",
     "evalue": "operands could not be broadcast together with shapes (2,3) (2,3,3) ",
     "output_type": "error",
     "traceback": [
      "\u001b[1;31m---------------------------------------------------------------------------\u001b[0m",
      "\u001b[1;31mValueError\u001b[0m                                Traceback (most recent call last)",
      "\u001b[1;32m<ipython-input-93-b1d45a339376>\u001b[0m in \u001b[0;36m<module>\u001b[1;34m\u001b[0m\n\u001b[1;32m----> 1\u001b[1;33m \u001b[0ma2\u001b[0m \u001b[1;33m*\u001b[0m\u001b[0ma3\u001b[0m\u001b[1;33m\u001b[0m\u001b[1;33m\u001b[0m\u001b[0m\n\u001b[0m",
      "\u001b[1;31mValueError\u001b[0m: operands could not be broadcast together with shapes (2,3) (2,3,3) "
     ]
    }
   ],
   "source": [
    "a2 *a3"
   ]
  },
  {
   "cell_type": "code",
   "execution_count": 94,
   "metadata": {},
   "outputs": [
    {
     "data": {
      "text/plain": [
       "array([[[1. ],\n",
       "        [2. ],\n",
       "        [3.3]],\n",
       "\n",
       "       [[4. ],\n",
       "        [5. ],\n",
       "        [6.5]]])"
      ]
     },
     "execution_count": 94,
     "metadata": {},
     "output_type": "execute_result"
    }
   ],
   "source": [
    "a2_reshape = a2.reshape(2, 3, 1)\n",
    "a2_reshape"
   ]
  },
  {
   "cell_type": "code",
   "execution_count": 95,
   "metadata": {},
   "outputs": [
    {
     "ename": "SyntaxError",
     "evalue": "invalid syntax (<ipython-input-95-d53641c3fc2b>, line 1)",
     "output_type": "error",
     "traceback": [
      "\u001b[1;36m  File \u001b[1;32m\"<ipython-input-95-d53641c3fc2b>\"\u001b[1;36m, line \u001b[1;32m1\u001b[0m\n\u001b[1;33m    a2_reshape * a3``````gfgjlkjg\u001b[0m\n\u001b[1;37m                   ^\u001b[0m\n\u001b[1;31mSyntaxError\u001b[0m\u001b[1;31m:\u001b[0m invalid syntax\n"
     ]
    }
   ],
   "source": [
    "a2_reshape * a3``````gfgjlkjg"
   ]
  },
  {
   "cell_type": "code",
   "execution_count": 96,
   "metadata": {},
   "outputs": [
    {
     "data": {
      "text/plain": [
       "array([[1. , 4. ],\n",
       "       [2. , 5. ],\n",
       "       [3.3, 6.5]])"
      ]
     },
     "execution_count": 96,
     "metadata": {},
     "output_type": "execute_result"
    }
   ],
   "source": [
    "#Tranpose\n",
    "a2.T"
   ]
  },
  {
   "cell_type": "code",
   "execution_count": 97,
   "metadata": {},
   "outputs": [
    {
     "data": {
      "text/plain": [
       "array([[1. , 4. ],\n",
       "       [2. , 5. ],\n",
       "       [3.3, 6.5]])"
      ]
     },
     "execution_count": 97,
     "metadata": {},
     "output_type": "execute_result"
    }
   ],
   "source": [
    "a2_transpose = a2.T\n",
    "a2_transpose"
   ]
  },
  {
   "cell_type": "markdown",
   "metadata": {},
   "source": [
    "# Dot Product\n",
    "Another way of organizing data for finding patterns"
   ]
  },
  {
   "cell_type": "code",
   "execution_count": 99,
   "metadata": {},
   "outputs": [
    {
     "data": {
      "text/plain": [
       "array([[5, 0, 3],\n",
       "       [3, 7, 9],\n",
       "       [3, 5, 2],\n",
       "       [4, 7, 6],\n",
       "       [8, 8, 1]])"
      ]
     },
     "execution_count": 99,
     "metadata": {},
     "output_type": "execute_result"
    }
   ],
   "source": [
    "np.random.seed(0)\n",
    "\n",
    "mat1 = np.random.randint(10, size=(5,3))\n",
    "mat2 = np.random.randint(10, size=(5,3))\n",
    "\n",
    "mat1"
   ]
  },
  {
   "cell_type": "code",
   "execution_count": 100,
   "metadata": {},
   "outputs": [
    {
     "data": {
      "text/plain": [
       "array([[6, 7, 7],\n",
       "       [8, 1, 5],\n",
       "       [9, 8, 9],\n",
       "       [4, 3, 0],\n",
       "       [3, 5, 0]])"
      ]
     },
     "execution_count": 100,
     "metadata": {},
     "output_type": "execute_result"
    }
   ],
   "source": [
    "mat2"
   ]
  },
  {
   "cell_type": "code",
   "execution_count": 101,
   "metadata": {},
   "outputs": [
    {
     "data": {
      "text/plain": [
       "(5, 3)"
      ]
     },
     "execution_count": 101,
     "metadata": {},
     "output_type": "execute_result"
    }
   ],
   "source": [
    "mat1.shape"
   ]
  },
  {
   "cell_type": "code",
   "execution_count": 102,
   "metadata": {},
   "outputs": [
    {
     "data": {
      "text/plain": [
       "(5, 3)"
      ]
     },
     "execution_count": 102,
     "metadata": {},
     "output_type": "execute_result"
    }
   ],
   "source": [
    "mat2.shape"
   ]
  },
  {
   "cell_type": "code",
   "execution_count": 104,
   "metadata": {},
   "outputs": [
    {
     "data": {
      "text/plain": [
       "array([[30,  0, 21],\n",
       "       [24,  7, 45],\n",
       "       [27, 40, 18],\n",
       "       [16, 21,  0],\n",
       "       [24, 40,  0]])"
      ]
     },
     "execution_count": 104,
     "metadata": {},
     "output_type": "execute_result"
    }
   ],
   "source": [
    "mat1 * mat2 #multiplied element-wise (Hadamard product)"
   ]
  },
  {
   "cell_type": "code",
   "execution_count": 105,
   "metadata": {},
   "outputs": [
    {
     "ename": "ValueError",
     "evalue": "shapes (5,3) and (5,3) not aligned: 3 (dim 1) != 5 (dim 0)",
     "output_type": "error",
     "traceback": [
      "\u001b[1;31m---------------------------------------------------------------------------\u001b[0m",
      "\u001b[1;31mValueError\u001b[0m                                Traceback (most recent call last)",
      "\u001b[1;32m<ipython-input-105-6a29ea6b4980>\u001b[0m in \u001b[0;36m<module>\u001b[1;34m\u001b[0m\n\u001b[1;32m----> 1\u001b[1;33m \u001b[0mnp\u001b[0m\u001b[1;33m.\u001b[0m\u001b[0mdot\u001b[0m\u001b[1;33m(\u001b[0m\u001b[0mmat1\u001b[0m\u001b[1;33m,\u001b[0m \u001b[0mmat2\u001b[0m\u001b[1;33m)\u001b[0m\u001b[1;33m\u001b[0m\u001b[1;33m\u001b[0m\u001b[0m\n\u001b[0m",
      "\u001b[1;32m<__array_function__ internals>\u001b[0m in \u001b[0;36mdot\u001b[1;34m(*args, **kwargs)\u001b[0m\n",
      "\u001b[1;31mValueError\u001b[0m: shapes (5,3) and (5,3) not aligned: 3 (dim 1) != 5 (dim 0)"
     ]
    }
   ],
   "source": [
    "np.dot(mat1, mat2)"
   ]
  },
  {
   "cell_type": "code",
   "execution_count": 107,
   "metadata": {},
   "outputs": [
    {
     "data": {
      "text/plain": [
       "array([[5, 3, 3, 4, 8],\n",
       "       [0, 7, 5, 7, 8],\n",
       "       [3, 9, 2, 6, 1]])"
      ]
     },
     "execution_count": 107,
     "metadata": {},
     "output_type": "execute_result"
    }
   ],
   "source": [
    "#Transpose mat1\n",
    "mat1.T"
   ]
  },
  {
   "cell_type": "code",
   "execution_count": 109,
   "metadata": {},
   "outputs": [
    {
     "data": {
      "text/plain": [
       "((5, 3), (3, 5))"
      ]
     },
     "execution_count": 109,
     "metadata": {},
     "output_type": "execute_result"
    }
   ],
   "source": [
    "mat1.shape, mat1.T.shape"
   ]
  },
  {
   "cell_type": "code",
   "execution_count": 111,
   "metadata": {},
   "outputs": [],
   "source": [
    "mat3 = np.dot(mat1, mat2.T)"
   ]
  },
  {
   "cell_type": "code",
   "execution_count": 112,
   "metadata": {},
   "outputs": [
    {
     "data": {
      "text/plain": [
       "array([[ 51,  55,  72,  20,  15],\n",
       "       [130,  76, 164,  33,  44],\n",
       "       [ 67,  39,  85,  27,  34],\n",
       "       [115,  69, 146,  37,  47],\n",
       "       [111,  77, 145,  56,  64]])"
      ]
     },
     "execution_count": 112,
     "metadata": {},
     "output_type": "execute_result"
    }
   ],
   "source": [
    "mat3"
   ]
  },
  {
   "cell_type": "code",
   "execution_count": 114,
   "metadata": {},
   "outputs": [
    {
     "data": {
      "text/plain": [
       "(5, 5)"
      ]
     },
     "execution_count": 114,
     "metadata": {},
     "output_type": "execute_result"
    }
   ],
   "source": [
    "mat3.shape"
   ]
  },
  {
   "cell_type": "code",
   "execution_count": 115,
   "metadata": {},
   "outputs": [],
   "source": [
    "#Dot product example (nut butter sales)"
   ]
  },
  {
   "cell_type": "code",
   "execution_count": 116,
   "metadata": {},
   "outputs": [
    {
     "data": {
      "text/plain": [
       "array([[12, 15,  0],\n",
       "       [ 3,  3,  7],\n",
       "       [ 9, 19, 18],\n",
       "       [ 4,  6, 12],\n",
       "       [ 1,  6,  7]])"
      ]
     },
     "execution_count": 116,
     "metadata": {},
     "output_type": "execute_result"
    }
   ],
   "source": [
    "np.random.seed(0)\n",
    "# Number of jars sold\n",
    "sales_amounts = np.random.randint(20, size=(5,3))\n",
    "sales_amounts"
   ]
  },
  {
   "cell_type": "code",
   "execution_count": 119,
   "metadata": {},
   "outputs": [
    {
     "data": {
      "text/html": [
       "<div>\n",
       "<style scoped>\n",
       "    .dataframe tbody tr th:only-of-type {\n",
       "        vertical-align: middle;\n",
       "    }\n",
       "\n",
       "    .dataframe tbody tr th {\n",
       "        vertical-align: top;\n",
       "    }\n",
       "\n",
       "    .dataframe thead th {\n",
       "        text-align: right;\n",
       "    }\n",
       "</style>\n",
       "<table border=\"1\" class=\"dataframe\">\n",
       "  <thead>\n",
       "    <tr style=\"text-align: right;\">\n",
       "      <th></th>\n",
       "      <th>Almond butter</th>\n",
       "      <th>Peanut butter</th>\n",
       "      <th>Cashew butter</th>\n",
       "    </tr>\n",
       "  </thead>\n",
       "  <tbody>\n",
       "    <tr>\n",
       "      <th>Mon</th>\n",
       "      <td>12</td>\n",
       "      <td>15</td>\n",
       "      <td>0</td>\n",
       "    </tr>\n",
       "    <tr>\n",
       "      <th>Tues</th>\n",
       "      <td>3</td>\n",
       "      <td>3</td>\n",
       "      <td>7</td>\n",
       "    </tr>\n",
       "    <tr>\n",
       "      <th>Wed</th>\n",
       "      <td>9</td>\n",
       "      <td>19</td>\n",
       "      <td>18</td>\n",
       "    </tr>\n",
       "    <tr>\n",
       "      <th>Thurs</th>\n",
       "      <td>4</td>\n",
       "      <td>6</td>\n",
       "      <td>12</td>\n",
       "    </tr>\n",
       "    <tr>\n",
       "      <th>Fri</th>\n",
       "      <td>1</td>\n",
       "      <td>6</td>\n",
       "      <td>7</td>\n",
       "    </tr>\n",
       "  </tbody>\n",
       "</table>\n",
       "</div>"
      ],
      "text/plain": [
       "       Almond butter  Peanut butter  Cashew butter\n",
       "Mon               12             15              0\n",
       "Tues               3              3              7\n",
       "Wed                9             19             18\n",
       "Thurs              4              6             12\n",
       "Fri                1              6              7"
      ]
     },
     "execution_count": 119,
     "metadata": {},
     "output_type": "execute_result"
    }
   ],
   "source": [
    "# Create weekly sales\n",
    "weekly_sales = pd.DataFrame(sales_amounts,\n",
    "                           index=[\"Mon\", \"Tues\", \"Wed\", \"Thurs\", \"Fri\"],\n",
    "                           columns=(\"Almond butter\", \"Peanut butter\", \"Cashew butter\"))\n",
    "weekly_sales"
   ]
  },
  {
   "cell_type": "code",
   "execution_count": null,
   "metadata": {},
   "outputs": [],
   "source": [
    "s"
   ]
  }
 ],
 "metadata": {
  "kernelspec": {
   "display_name": "Python 3",
   "language": "python",
   "name": "python3"
  },
  "language_info": {
   "codemirror_mode": {
    "name": "ipython",
    "version": 3
   },
   "file_extension": ".py",
   "mimetype": "text/x-python",
   "name": "python",
   "nbconvert_exporter": "python",
   "pygments_lexer": "ipython3",
   "version": "3.8.3"
  }
 },
 "nbformat": 4,
 "nbformat_minor": 4
}
